{
 "cells": [
  {
   "cell_type": "markdown",
   "metadata": {},
   "source": [
    "# Mohammad Amin Roohi     42015453\n",
    "# Wenqing(Grace) Gu              37336435\n",
    "# Nicholas Pun     27872167\n",
    "# Zhicong Qi    15457369 \n",
    "\n",
    "## Computational Optimization (CPSC 406)\n",
    "> In class activity "
   ]
  },
  {
   "cell_type": "code",
   "execution_count": 1,
   "metadata": {},
   "outputs": [],
   "source": [
    "import numpy as np\n",
    "import scipy.io\n",
    "import matplotlib.pyplot as plt\n",
    "from sklearn.metrics import mean_squared_error"
   ]
  },
  {
   "cell_type": "markdown",
   "metadata": {},
   "source": [
    "# Question 1"
   ]
  },
  {
   "cell_type": "code",
   "execution_count": 2,
   "metadata": {},
   "outputs": [],
   "source": [
    "data = scipy.io.loadmat('mnist.mat')\n",
    "trainX = data['trainX']\n",
    "trainY = data['trainY']\n",
    "testX = data['testX']\n",
    "testY = data['testY']"
   ]
  },
  {
   "cell_type": "code",
   "execution_count": 3,
   "metadata": {},
   "outputs": [],
   "source": [
    "i = 1\n",
    "img = trainX[i,:].reshape(28, 28)"
   ]
  },
  {
   "cell_type": "code",
   "execution_count": 4,
   "metadata": {},
   "outputs": [
    {
     "data": {
      "text/plain": [
       "<matplotlib.image.AxesImage at 0x1c5a5081548>"
      ]
     },
     "execution_count": 4,
     "metadata": {},
     "output_type": "execute_result"
    },
    {
     "data": {
      "image/png": "[encoded data removed]",
      "text/plain": [
       "<Figure size 432x288 with 1 Axes>"
      ]
     },
     "metadata": {
      "needs_background": "light"
     },
     "output_type": "display_data"
    }
   ],
   "source": [
    "plt.gray()\n",
    "plt.imshow(img)"
   ]
  },
  {
   "cell_type": "markdown",
   "metadata": {},
   "source": [
    "# Question 2 a)"
   ]
  },
  {
   "cell_type": "code",
   "execution_count": 5,
   "metadata": {},
   "outputs": [],
   "source": [
    "idx4 = (trainY == 4)\n",
    "idx9 = (trainY == 9)\n",
    "idx = idx4 + idx9\n",
    "idx = idx.reshape(-1)\n",
    "A = trainX[idx]\n",
    "b = trainY.reshape(-1)[idx]\n",
    "A = A.astype(int)\n",
    "b = b.astype(int)"
   ]
  },
  {
   "cell_type": "markdown",
   "metadata": {},
   "source": [
    "# Question 2  b)"
   ]
  },
  {
   "cell_type": "code",
   "execution_count": 6,
   "metadata": {},
   "outputs": [],
   "source": [
    "idx4_b = (b == 4)\n",
    "idx9_b = (b == 9)\n",
    "b[idx4_b] = 1\n",
    "b[idx9_b] = -1"
   ]
  },
  {
   "cell_type": "markdown",
   "metadata": {},
   "source": [
    "# Question 2  c)"
   ]
  },
  {
   "cell_type": "code",
   "execution_count": 7,
   "metadata": {},
   "outputs": [],
   "source": [
    "Amean = A.mean(axis = 0)\n",
    "A = A - Amean"
   ]
  },
  {
   "cell_type": "code",
   "execution_count": 8,
   "metadata": {},
   "outputs": [],
   "source": [
    "Astd = A.std(axis = 0)\n",
    "A = A / ((Astd > 1).astype(int)*Astd + (Astd <= 1).astype(int)*np.ones(A.shape[1]))"
   ]
  },
  {
   "cell_type": "markdown",
   "metadata": {},
   "source": [
    "<p> We know that for normalizing a vector like $x$, we have:\n",
    "    $$x_n = \\frac{x - \\mu}{\\sigma},$$\n",
    "    where $\\mu$ is the mean of $x$ and $\\sigma$ is the standard deviation of $x$. Here, for each vector, if the corresponding standard deviation is less than 1, we substitute that by 1. Note that if we first remove the variance, the mean of new data will turn into $\\frac{\\mu}{\\sigma}$ and to remove the meant at in this case, we need to use $\\frac{\\mu}{\\sigma}$ instead of $\\mu$."
   ]
  },
  {
   "cell_type": "markdown",
   "metadata": {},
   "source": [
    "# Question 3  a)"
   ]
  },
  {
   "cell_type": "code",
   "execution_count": 9,
   "metadata": {},
   "outputs": [
    {
     "name": "stdout",
     "output_type": "stream",
     "text": [
      "loss_xls =  2136.2898686264034\n"
     ]
    }
   ],
   "source": [
    "x_ls = np.linalg.lstsq(A, b, rcond=None)[0]\n",
    "loss = mean_squared_error(A@x_ls, b)*A.shape[0]\n",
    "print('loss_xls = ', loss)"
   ]
  },
  {
   "cell_type": "markdown",
   "metadata": {},
   "source": [
    "# Question 3  b)"
   ]
  },
  {
   "cell_type": "markdown",
   "metadata": {},
   "source": [
    "<p> To build a classifier, here with 2 classes, we need a function, say $f$, such that if $x \\in Class(A)$, then return a value around $a_1$, or $f(x) \\approx a_1$ and if $x \\in Class(B)$, then return a value around $a_2$ or $f(x) \\approx a_2$, where $a_1$ and $a_2$ are two different value. Then we can assume that if $f(x_0) > \\frac{a_1 + a_2}{2}$, then $x_0 \\in Class(A)$ and if $f(x_0) < \\frac{a_1 + a_2}{2}$, then $x_0 \\in Class(B)$. Here let's assume $f(x) = sign(xW)$, where $W$ is the weights vector, and is returned by the least squares problem. "
   ]
  },
  {
   "cell_type": "code",
   "execution_count": 10,
   "metadata": {},
   "outputs": [
    {
     "name": "stdout",
     "output_type": "stream",
     "text": [
      "train misclass rate =  0.030786192858960223\n"
     ]
    }
   ],
   "source": [
    "C_xls = np.sign(A@x_ls)\n",
    "train_misclass_rate = sum((C_xls != b).astype(int))/A.shape[0]\n",
    "print('train misclass rate = ', train_misclass_rate)"
   ]
  },
  {
   "cell_type": "markdown",
   "metadata": {},
   "source": [
    "# Question 3  c)"
   ]
  },
  {
   "cell_type": "code",
   "execution_count": 11,
   "metadata": {},
   "outputs": [],
   "source": [
    "idx4_test = (testY == 4)\n",
    "idx9_test = (testY == 9)\n",
    "idx_test = idx4_test + idx9_test\n",
    "idx_test = idx_test.reshape(-1)\n",
    "Atest = testX[idx_test]\n",
    "btest = testY.reshape(-1)[idx_test]\n",
    "Atest = Atest.astype(int)\n",
    "btest = btest.astype(int)\n",
    "\n",
    "idx4_b_test = (btest == 4)\n",
    "idx9_b_test = (btest == 9)\n",
    "btest[idx4_b_test] = 1\n",
    "btest[idx9_b_test] = -1\n",
    "\n",
    "Atest = Atest - Amean\n",
    "Atest = Atest / ((Astd > 1).astype(int)*Astd + (Astd <= 1).astype(int)*np.ones(A.shape[1]))"
   ]
  },
  {
   "cell_type": "markdown",
   "metadata": {},
   "source": [
    "<p> Since we want to use our trained model, and it is trained with the normalized data, we need to test it on a data from same distribution. To do this, we assume that all data come from same distribution and normalize the test data with the same statistics of train data.\n",
    "    \n",
    "<p> We need to preprocess the testing data in exactly the same way we preprocessed the training data (e.g. remove the same amount of bias and variance) so that we could apply the model that is trained with training data to test data. The training data here (i.e. A) has already been preprocessed (normalized) after we calculate the constants. Hence, if we re-compute Amean and Astd using the code we used before, we would get different answers for the constants, which would not meet our goal to properly preprocess the testing data. Therefore, we assume that all data come from same distribution and normalize the test data with the same constants that we calculated before."
   ]
  },
  {
   "cell_type": "markdown",
   "metadata": {},
   "source": [
    "# Question 4  a)\n",
    "## i)"
   ]
  },
  {
   "cell_type": "markdown",
   "metadata": {},
   "source": [
    "<p> As a summary, since $\\log(x)$ is a strictly increasing function, we have:\n",
    "    $$argmax(f(x)) = argmax(\\log(f(x))$$\n",
    "    \n",
    "<p> To prove this, suppose $a_1 = argmax(f(x))$ and $a_2 = argmax(\\log(f(x))$, where $a_1 \\neq a_2$. Since $\\log(x)$ is a strictly increasing function, we can say that $\\log(f(a_1)) > \\log(f(a_2))$ where is a contradiction with $a_2 = argmax(\\log(f(x))$. "
   ]
  },
  {
   "cell_type": "markdown",
   "metadata": {},
   "source": [
    "# Question 4  a)\n",
    "## ii)"
   ]
  },
  {
   "cell_type": "markdown",
   "metadata": {},
   "source": [
    "$$f(x) = \\log\\left(\\Pi_{i = 1}^{m}\\sigma(a_i^Tx)^{b_i}(1 - \\sigma(a_i^Tx))^{1 - b_i}\\right) = \\sum_{i = 1}^{m} \\log(\\sigma(a_i^Tx)^{b_i}(1 - \\sigma(a_i^Tx))^{1 - b_i})$$\n",
    "<p> This tells us:\n",
    "$$f(x) = \\sum_{i = 1}^{m}b_i \\log(\\sigma(a_i^Tx)) + (1 - b_i) \\log(1 - \\sigma(a_i^Tx))$$\n",
    "    \n",
    "<p> For the gradient we have:\n",
    "    $$\\frac{\\partial}{\\partial x_j} = a_j \\sum_{i = 1}^{m} \\frac{b_i e^{-a_i^Tx}}{(1 + e^{-a_i^Tx})^2} \\times (1 + e^{-a_i^Tx})^2 + (1 - b_i)(\\frac{-e^{-a_ix}(1 + e^{-a_ix}) + e^{-2a_i^Tx}}{(1 + a^{-a_i^Tx})^2})\\times \\frac{1 + e^{-a_i^T}}{e^{-a_i^Tx}}$$\n",
    "    \n",
    "$$\\implies \\frac{\\partial}{\\partial x_j} = \\sum_{i = 1}^{m} (b_i - \\sigma(a_i^Tx))x_j$$    \n",
    "    <p> So, we can say the gradient is:\n",
    "        $$\\nabla f(x) = \\begin{bmatrix}\n",
    "    \\sum_{i = 1}^{m} (b_i - \\sigma(a_i^Tx))a_i^{(1)}\\\\\n",
    "    .\\\\\n",
    "    .\\\\\n",
    "    .\\\\\n",
    "    \\sum_{i = 1}^{m} (b_i - \\sigma(a_i^Tx))a_i^{(n)}\n",
    "    \\end{bmatrix}$$  \n",
    "    <p>Based on what we calculate for the gradient, we can say:\n",
    "        $$H_{ii} = \\sum_{i = 1}^{m}(b_i - \\sigma(a_i^Tx)) + a_ix_i \\sum_{i = 1}^{m} (1 - \\sigma(a_i^Tx))$$\n",
    "    <p> And for $H_{ij}$ where $i \\neq j$, we have:\n",
    "    $$H_{ij} = a_jx_i \\sum_{i = 1}^{m} (1 - \\sigma(a_i^Tx))$$\n",
    "        "
   ]
  },
  {
   "cell_type": "markdown",
   "metadata": {},
   "source": [
    "<p> We can show that:\n",
    "    $$\n",
    "\\triangledown_x^2 L = A^T W A,\n",
    "$$\n",
    "\n",
    "where:\n",
    "    $$W = \n",
    "    \\begin{bmatrix} \n",
    "    \\sigma_1(1-\\sigma_1) & 0 & \\dots & 0 \\\\\n",
    "    0 & \\sigma_2(1-\\sigma_2)  & \\dots & 0 \\\\\n",
    "    \\vdots & \\ddots & \\vdots & \\vdots \\\\\n",
    "    0 & 0 & \\dots & \\sigma_m(1-\\sigma_m) \\\\\n",
    "    \\end{bmatrix}\n",
    "    \\in \\mathbb{R}^{m \\times m},$$\n",
    "    \n",
    "and,\n",
    "    $$A =\n",
    "    \\begin{bmatrix} \n",
    "    a_{11} & a_{12} & \\dots & a_{1n} \\\\\n",
    "    \\vdots & \\ddots & \\vdots & \\vdots \\\\\n",
    "    a_{m1} & a_{m2} & \\dots & a_{mn} \\\\\n",
    "    \\end{bmatrix}\n",
    "    \\in \\mathbb{R}^{m \\times n}.$$"
   ]
  },
  {
   "cell_type": "markdown",
   "metadata": {},
   "source": [
    "## We can also solve the problem using this approach"
   ]
  },
  {
   "cell_type": "markdown",
   "metadata": {},
   "source": [
    "### Part 0: Some calculation and simplification for sigmond function $\\sigma(a_i^Tx)$"
   ]
  },
  {
   "cell_type": "markdown",
   "metadata": {},
   "source": [
    "Let $\\sigma(a_i^Tx) = \\sigma_i$, and some important calculation of $\\sigma(a_i^Tx) = \\sigma_i = \\frac{1}{1+e^{-a_i^Tx}}$:\n",
    "\n",
    "$$\\sigma_i = \\frac{1}{1+e^{-a_i^Tx}} = \\frac{e^{a_i^Tx}}{1+e^{a_i^Tx}}$$\n",
    "\n",
    "$$1-\\sigma_i = 1 - \\frac{e^{a_i^Tx}}{1+e^{a_i^Tx}} = \\frac{1}{1+e^{a_i^Tx}}$$\n",
    "\n",
    "$$\\log \\sigma_i = \\log \\frac{e^{a_i^Tx}}{1+e^{a_i^Tx}} = \\log(e^{a_i^Tx})-\\log(1+e^{a_i^Tx}) = a_i^Tx-\\log(1+e^{a_i^Tx})$$\n",
    "\n",
    "$$\\log (1-\\sigma_i) = \\log \\frac{1}{1+e^{a_i^Tx}} = 0-\\log(1+e^{a_i^Tx}) = -\\log(1+e^{a_i^Tx})$$"
   ]
  },
  {
   "cell_type": "markdown",
   "metadata": {},
   "source": [
    "### Part 1: simplify log likelihood $f(x)$"
   ]
  },
  {
   "cell_type": "markdown",
   "metadata": {},
   "source": [
    "\\begin{aligned}\n",
    "f(x) &= \\log \\left( \\Pi_{i=1}^{\\infty} \\sigma_i^{b_i} (1-\\sigma_i)^{1-b_i} \\right)\\\\\n",
    "     &= \\sum_{i=1}^{m} b_i \\log(\\sigma_i) + (1-b_i) \\log(1-\\sigma_i)) \\\\\n",
    "     &= \\sum_{i=1}^{m} b_i (a_i^Tx-\\log(1+e^{a_i^Tx})) + (1-b_i) (-\\log(1+e^{a_i^Tx})) \\\\\n",
    "     &= \\sum_{i=1}^{m} b_i a_i^Tx - b_i \\log(1+e^{a_i^Tx}) - \\log(1+e^{a_i^Tx}) + b_i \\log(1+e^{a_i^Tx}) \\\\\n",
    "     &= \\sum_{i=1}^{m} a_i^Tx b_i - \\log(1+e^{a_i^Tx}) \\\\\n",
    "     &= \\sum_{i=1}^{m} a_i^Tx b_i + \\log(\\frac{1}{1+e^{a_i^Tx}}) \\\\\n",
    "     &= \\sum_{i=1}^{m} a_i^Tx b_i + \\log(1-\\sigma_i) \\\\\n",
    "\\end{aligned}"
   ]
  },
  {
   "cell_type": "markdown",
   "metadata": {},
   "source": [
    "### Part 2: the loss function $L(x)$"
   ]
  },
  {
   "cell_type": "markdown",
   "metadata": {},
   "source": [
    "\\begin{aligned}\n",
    "L(x) &= -f(x) \\\\\n",
    "     &= \\sum_{i=1}^{m} - a_i^Tx b_i + \\log(1+e^{a_i^Tx}) \\\\\n",
    "     &= \\sum_{i=1}^{m} - a_i^Tx b_i - \\log(1-\\sigma_i) \\\\\n",
    "     &=  - (Ax)^T b - \\sum_{i=1}^{m} \\log(1-\\sigma_i) \\\\\n",
    "\\end{aligned}"
   ]
  },
  {
   "cell_type": "markdown",
   "metadata": {},
   "source": [
    "### Part 3: the gradient $\\triangledown L(x)$"
   ]
  },
  {
   "cell_type": "markdown",
   "metadata": {},
   "source": [
    "\\begin{aligned}\n",
    "\\frac{d}{dx_j} L \n",
    "    &= \\frac{d}{dx_j} \\sum_{i=1}^m - a_i^Tx b_i + \\log(1+e^{a_i^Tx}) \\\\\n",
    "    &= \\sum_{i=1}^m - a_{ij}b_i + \\frac{a_{ij} \\cdotp e^{a_i^Tx}}{1+e^{a_i^Tx}} \\\\\n",
    "    &= \\sum_{i=1}^m a_{ij} (\\frac{e^{a_i^Tx}}{1+e^{a_i^Tx}} - b_i) \\\\\n",
    "    &= \\sum_{i=1}^m a_{ij} (\\sigma_i - b_i) \\\\\n",
    "\\end{aligned}"
   ]
  },
  {
   "cell_type": "markdown",
   "metadata": {},
   "source": [
    "Hence:\n",
    "$$\n",
    "\\triangledown_x L = A^T (\\sigma(Ax) - b)\n",
    "$$\n",
    "\n",
    "where $x \\in \\mathbb{R}^{n \\times 1}$, $b \\in \\mathbb{R}^{m \\times 1}$, and \n",
    "\n",
    "$$\\begin{equation*}\n",
    "    A = \n",
    "    \\begin{bmatrix} \n",
    "    a_{1}\\\\\n",
    "    \\vdots \\\\\n",
    "    a_{m}\\\\\n",
    "    \\end{bmatrix} =\n",
    "    \\begin{bmatrix} \n",
    "    a_{11} & a_{12} & \\dots & a_{1n} \\\\\n",
    "    \\vdots & \\ddots & \\vdots & \\vdots \\\\\n",
    "    a_{m1} & a_{m2} & \\dots & a_{mn} \\\\\n",
    "    \\end{bmatrix}\n",
    "    \\in \\mathbb{R}^{m \\times n}\n",
    "\\end{equation*}$$\n",
    "\n",
    "$$\\begin{equation*}\n",
    "    \\sigma(Ax) =\n",
    "    \\begin{bmatrix} \n",
    "    \\sigma_{1} \\\\\n",
    "    \\vdots  \\\\\n",
    "    \\sigma_{m} \\\\\n",
    "    \\end{bmatrix} = \n",
    "    \\begin{bmatrix} \n",
    "    \\sigma(a_1^Tx) \\\\\n",
    "    \\vdots  \\\\\n",
    "    \\sigma(a_m^Tx) \\\\\n",
    "    \\end{bmatrix}\n",
    "    \\in \\mathbb{R}^{m \\times 1}\n",
    "\\end{equation*}$$"
   ]
  },
  {
   "cell_type": "markdown",
   "metadata": {},
   "source": [
    "### Part 4: the hessian $\\triangledown^2 L(x)$ "
   ]
  },
  {
   "cell_type": "markdown",
   "metadata": {},
   "source": [
    " \n",
    "\\begin{aligned}\n",
    "\\frac{d^2}{dx_j dx_k} L \n",
    "    &= \\frac{d}{dx_k} \\sum_{i=1}^m a_{ij} (\\sigma_i - b_i) \\\\\n",
    "    &= \\sum_{i=1}^m a_{ij} \\frac{d}{dx_k} (\\sigma_i - b_i) \\\\\n",
    "    &= \\sum_{i=1}^m a_{ij} \\frac{d}{dx_k} (\\sigma_i) \\\\\n",
    "    &= \\sum_{i=1}^m a_{ij} \\frac{d}{dx_k} (\\frac{1}{1+e^{-a_i^Tx}}) \\\\\n",
    "    &= \\sum_{i=1}^m a_{ij} \\cdotp (-1) \\cdotp \\frac{1}{(1+e^{-a_i^Tx})^2} \\cdotp e^{-a_i^Tx} \\cdotp {-a_{ik}} \\\\\n",
    "    &= \\sum_{i=1}^m a_{ij} {a_{ik}}  \\cdotp \\sigma_i \\cdotp \\frac{e^{-a_i^Tx}}{(1+e^{-a_i^Tx})} \\\\\n",
    "    &= \\sum_{i=1}^m a_{ij} \\cdotp \\sigma_i \\cdotp (1-\\sigma_i) \\cdotp  {a_{ik}}\n",
    "\\end{aligned}\n",
    "​\n",
    "Hence:\n",
    "$$\n",
    "\\triangledown_x^2 L = A^T W A\n",
    "$$\n",
    "where W is a diagonal matrix\n",
    "$$\\begin{equation*}\n",
    "    W =\n",
    "    \\begin{bmatrix} \n",
    "    \\sigma_1(1-\\sigma_1) & 0 & \\dots & 0 \\\\\n",
    "    0 & \\sigma_2(1-\\sigma_2)  & \\dots & 0 \\\\\n",
    "    \\vdots & \\ddots & \\vdots & \\vdots \\\\\n",
    "    0 & 0 & \\dots & \\sigma_m(1-\\sigma_m) \\\\\n",
    "    \\end{bmatrix}\n",
    "    \\in \\mathbb{R}^{m \\times m}\n",
    "\\end{equation*}$$\n"
   ]
  },
  {
   "cell_type": "markdown",
   "metadata": {},
   "source": [
    "### Part 5: check for convexity"
   ]
  },
  {
   "cell_type": "markdown",
   "metadata": {},
   "source": [
    "$\\because$ For $\\sigma_i = \\sigma(a_i^Tx) = \\sigma(s) = \\frac{1}{1+e^{-s}}$, $1+e^{-s} > 0$ for any $s \\in \\mathbb{R}$\n",
    "\n",
    "$\\therefore$ $\\sigma_i > 0$\n",
    "\n",
    "$\\therefore$ With similar reasonings, $1-\\sigma_i = \\frac{e^{-s}}{1+e^{-s}} > 0$\n",
    "\n",
    "$\\therefore$ The diagonal terms of $W$: $\\sigma_i (1-\\sigma_i)$ are all real positive numbers\n",
    "\n",
    "$\\therefore$ The diagonal terms of $W^{\\frac{1}{2}}$: $\\sqrt{\\sigma_i (1-\\sigma_i)}$ are also all real positive numbers\n",
    "\n",
    "$\\therefore$ For the hessian of our loss function:\n",
    "\n",
    "\\begin{aligned}\n",
    "\\triangledown_x^2 L \n",
    "    &= A^T W A \\\\\n",
    "    &= A^T W^{\\frac{1}{2}} W^{\\frac{1}{2}} A \\\\\n",
    "    &= (W^{\\frac{1}{2}} A)^T W^{\\frac{1}{2}} A \\\\\n",
    "    &= || W^{\\frac{1}{2}} A||_ 2^2 \\\\\n",
    "    &\\geq 0\n",
    "\\end{aligned}\n",
    "\n",
    "$\\therefore$ The Hessian $\\triangledown_x^2 L$ is positive semidefinite\n",
    "\n",
    "$\\therefore$ The loss function $L$ is convex."
   ]
  },
  {
   "cell_type": "markdown",
   "metadata": {},
   "source": [
    "# Question 4  b)\n",
    "## i)"
   ]
  },
  {
   "cell_type": "code",
   "execution_count": 12,
   "metadata": {},
   "outputs": [],
   "source": [
    "b_logistic = (b+1)/2"
   ]
  },
  {
   "cell_type": "markdown",
   "metadata": {},
   "source": [
    "# Question 4  b)\n",
    "## ii)"
   ]
  },
  {
   "cell_type": "code",
   "execution_count": 13,
   "metadata": {},
   "outputs": [],
   "source": [
    "x = np.zeros([1001, A.shape[1]])\n",
    "\n",
    "def gradient(x):\n",
    "    grad = np.zeros(A.shape[1])\n",
    "    for i in range(A.shape[0]):\n",
    "        k = b_logistic[i] - 1/(1+np.exp(-np.dot(A[i], x)))\n",
    "        grad += k*A[i]\n",
    "\n",
    "    return grad\n",
    "\n",
    "eta = 1/A.shape[0]\n",
    "for i in range(1, 1001):\n",
    "    x[i] = x[i-1] + eta*gradient(x[i-1])\n",
    "        \n",
    " "
   ]
  },
  {
   "cell_type": "code",
   "execution_count": 16,
   "metadata": {},
   "outputs": [],
   "source": [
    "def f(x):\n",
    "    out = 0\n",
    "    for i in range(A.shape[0]):\n",
    "        out += b_logistic[i]*np.log(1/(1 + np.exp(-np.dot(A[i], x)))) + (1 - b_logistic[i])*np.log(1 - 1/(1 + np.exp(-np.dot(A[i], x))))\n",
    "    \n",
    "    return out\n",
    "    "
   ]
  },
  {
   "cell_type": "code",
   "execution_count": 17,
   "metadata": {},
   "outputs": [
    {
     "name": "stderr",
     "output_type": "stream",
     "text": [
      "C:\\Users\\nickb\\Anaconda3\\lib\\site-packages\\ipykernel_launcher.py:4: RuntimeWarning: divide by zero encountered in log\n",
      "  after removing the cwd from sys.path.\n",
      "C:\\Users\\nickb\\Anaconda3\\lib\\site-packages\\ipykernel_launcher.py:4: RuntimeWarning: invalid value encountered in double_scalars\n",
      "  after removing the cwd from sys.path.\n"
     ]
    }
   ],
   "source": [
    "model_loss = []\n",
    "model_loss_LL = []\n",
    "\n",
    "for i in range(1001):\n",
    "    C = (np.sign(1/(1 + np.exp(-A@x[i])) - 0.5) + 1)/2\n",
    "    train_misclass_rate_i = sum((C != b_logistic).astype(int))/A.shape[0]\n",
    "    model_loss.append(train_misclass_rate_i)\n",
    "    model_loss_LL.append(-f(x[i]))\n",
    "    \n"
   ]
  },
  {
   "cell_type": "code",
   "execution_count": 18,
   "metadata": {},
   "outputs": [
    {
     "data": {
      "text/plain": [
       "Text(0.5, 0, 'iteration')"
      ]
     },
     "execution_count": 18,
     "metadata": {},
     "output_type": "execute_result"
    },
    {
     "data": {
      "image/png": "[encoded data removed]",
      "text/plain": [
       "<Figure size 432x288 with 1 Axes>"
      ]
     },
     "metadata": {
      "needs_background": "light"
     },
     "output_type": "display_data"
    }
   ],
   "source": [
    "plt.plot(model_loss)\n",
    "plt.ylabel('-NLL')\n",
    "plt.xlabel('iteration')"
   ]
  },
  {
   "cell_type": "code",
   "execution_count": 19,
   "metadata": {},
   "outputs": [
    {
     "data": {
      "text/plain": [
       "Text(0.5, 0, 'iteration')"
      ]
     },
     "execution_count": 19,
     "metadata": {},
     "output_type": "execute_result"
    },
    {
     "data": {
      "image/png": "[encoded data removed]",
      "text/plain": [
       "<Figure size 432x288 with 1 Axes>"
      ]
     },
     "metadata": {
      "needs_background": "light"
     },
     "output_type": "display_data"
    }
   ],
   "source": [
    "plt.plot(model_loss_LL)\n",
    "plt.ylabel('-NLL')\n",
    "plt.xlabel('iteration')"
   ]
  },
  {
   "cell_type": "code",
   "execution_count": 20,
   "metadata": {},
   "outputs": [
    {
     "name": "stdout",
     "output_type": "stream",
     "text": [
      "The train misclassification rate is:  0.018403867356458315\n",
      "The test misclassification rate is:  0.030135610246107485\n"
     ]
    }
   ],
   "source": [
    "btest_logistic = (btest + 1)/2\n",
    "C_test = (np.sign(1/(1 + np.exp(-Atest@x[-1])) - 0.5) + 1)/2\n",
    "test_misclass_rate = sum((C_test != btest_logistic).astype(int))/Atest.shape[0]\n",
    "print('The train misclassification rate is: ', model_loss[-1])\n",
    "print('The test misclassification rate is: ', test_misclass_rate)"
   ]
  },
  {
   "cell_type": "markdown",
   "metadata": {},
   "source": [
    "# Question 4  b)\n",
    "## iii)"
   ]
  },
  {
   "cell_type": "code",
   "execution_count": 21,
   "metadata": {},
   "outputs": [],
   "source": [
    "def back_track_stepsize(s , alpha, beta, t_k, x):\n",
    "    while f(x) - f(x + 1*t_k*gradient(x)) < alpha*t_k*np.linalg.norm(gradient(x))**2:\n",
    "        t_k = t_k*beta\n",
    "    return t_k"
   ]
  },
  {
   "cell_type": "code",
   "execution_count": 22,
   "metadata": {},
   "outputs": [
    {
     "name": "stderr",
     "output_type": "stream",
     "text": [
      "C:\\Users\\nickb\\Anaconda3\\lib\\site-packages\\ipykernel_launcher.py:4: RuntimeWarning: divide by zero encountered in log\n",
      "  after removing the cwd from sys.path.\n",
      "C:\\Users\\nickb\\Anaconda3\\lib\\site-packages\\ipykernel_launcher.py:4: RuntimeWarning: invalid value encountered in double_scalars\n",
      "  after removing the cwd from sys.path.\n"
     ]
    }
   ],
   "source": [
    "x_backtrack = np.zeros([1001, A.shape[1]])\n",
    "for i in range(1, 1001):\n",
    "    alpha = back_track_stepsize(1, 0.5, 0.5, 1, x_backtrack[i-1])\n",
    "    x_backtrack[i] = x_backtrack[i-1] + alpha*gradient(x_backtrack[i-1])\n"
   ]
  },
  {
   "cell_type": "code",
   "execution_count": 23,
   "metadata": {},
   "outputs": [
    {
     "data": {
      "text/plain": [
       "[<matplotlib.lines.Line2D at 0x1c5a654df08>]"
      ]
     },
     "execution_count": 23,
     "metadata": {},
     "output_type": "execute_result"
    },
    {
     "data": {
      "image/png": "[encoded data removed]",
      "text/plain": [
       "<Figure size 432x288 with 1 Axes>"
      ]
     },
     "metadata": {
      "needs_background": "light"
     },
     "output_type": "display_data"
    }
   ],
   "source": [
    "model_loss_backtracking = []\n",
    "\n",
    "for i in range(1001):\n",
    "    C = (np.sign(1/(1 + np.exp(-A@x_backtrack[i])) - 0.5) + 1)/2\n",
    "    train_misclass_rate_i = sum((C != b_logistic).astype(int))/A.shape[0]\n",
    "    model_loss_backtracking.append(train_misclass_rate_i)\n",
    "\n",
    "plt.plot(model_loss_backtracking)"
   ]
  },
  {
   "cell_type": "code",
   "execution_count": 24,
   "metadata": {},
   "outputs": [
    {
     "name": "stdout",
     "output_type": "stream",
     "text": [
      "The train misclassification rate is:  0.022305147994232888\n",
      "The test misclassification rate is:  0.03164239075841286\n"
     ]
    }
   ],
   "source": [
    "C_test_backtracking = (np.sign(1/(1 + np.exp(-Atest@x_backtrack[-1])) - 0.5) + 1)/2\n",
    "test_misclass_rate_backtracking = sum((C_test_backtracking != btest_logistic).astype(int))/Atest.shape[0]\n",
    "print('The train misclassification rate is: ', model_loss_backtracking[-1])\n",
    "print('The test misclassification rate is: ', test_misclass_rate_backtracking)"
   ]
  },
  {
   "cell_type": "markdown",
   "metadata": {},
   "source": [
    "# Question 4  b)\n",
    "## iv)"
   ]
  },
  {
   "cell_type": "markdown",
   "metadata": {},
   "source": [
    "<p> We see that in the backtracking approach, for the convergence rate there are some jumps and this approach gives us higher error!\n",
    "<p> But it seems that the loss function is decreasing more rapidly using the gradient descent with backtracking method, compared with using constant step size gradient descent, after 1000 iterations."
   ]
  },
  {
   "cell_type": "markdown",
   "metadata": {},
   "source": [
    "# Question 4  b)\n",
    "## v)"
   ]
  },
  {
   "cell_type": "markdown",
   "metadata": {},
   "source": [
    "<p> Here for this example, the logistic regression performance was not much better. But for some applications it may work much better. "
   ]
  },
  {
   "cell_type": "markdown",
   "metadata": {},
   "source": [
    "# Question 5"
   ]
  },
  {
   "cell_type": "code",
   "execution_count": 25,
   "metadata": {},
   "outputs": [
    {
     "name": "stderr",
     "output_type": "stream",
     "text": [
      "C:\\Users\\nickb\\Anaconda3\\lib\\site-packages\\ipykernel_launcher.py:6: RuntimeWarning: divide by zero encountered in log\n",
      "  \n",
      "C:\\Users\\nickb\\Anaconda3\\lib\\site-packages\\ipykernel_launcher.py:6: RuntimeWarning: invalid value encountered in double_scalars\n",
      "  \n"
     ]
    }
   ],
   "source": [
    "regression_error = []\n",
    "logistic_error = []\n",
    "\n",
    "for i in range(A.shape[0]):\n",
    "    regression_error.append(np.linalg.norm(np.dot(A[i], x_ls) - b)**2)\n",
    "    logistic_error.append(b_logistic[i]*np.log(1/(1 + np.exp(-np.dot(A[i], x[-1])))) + (1 - b_logistic[i])*np.log(1 - 1/(1 + np.exp(-np.dot(A[i], x[-1])))))\n",
    "\n",
    "\n",
    "regression_error = np.array(regression_error)   \n",
    "idx_regression = np.argpartition(regression_error, 3)   \n",
    "idx_regression = idx_regression[0:3]\n",
    "\n",
    "logistic_error = -np.array(logistic_error)\n",
    "idx_logistic = np.argpartition(logistic_error, 3)  \n",
    "idx_logistic = idx_logistic[0:3]"
   ]
  },
  {
   "cell_type": "code",
   "execution_count": 26,
   "metadata": {},
   "outputs": [
    {
     "data": {
      "image/png": "[encoded data removed]",
      "text/plain": [
       "<Figure size 432x288 with 1 Axes>"
      ]
     },
     "metadata": {
      "needs_background": "light"
     },
     "output_type": "display_data"
    },
    {
     "data": {
      "image/png": "[encoded data removed]",
      "text/plain": [
       "<Figure size 432x288 with 1 Axes>"
      ]
     },
     "metadata": {
      "needs_background": "light"
     },
     "output_type": "display_data"
    },
    {
     "data": {
      "image/png": "[encoded data removed]",
      "text/plain": [
       "<Figure size 432x288 with 1 Axes>"
      ]
     },
     "metadata": {
      "needs_background": "light"
     },
     "output_type": "display_data"
    }
   ],
   "source": [
    "for i in idx_regression:\n",
    "    img = A[i,:].reshape(28, 28)\n",
    "    plt.figure()\n",
    "    plt.imshow(img)"
   ]
  },
  {
   "cell_type": "code",
   "execution_count": 27,
   "metadata": {},
   "outputs": [
    {
     "data": {
      "image/png": "[encoded data removed]",
      "text/plain": [
       "<Figure size 432x288 with 1 Axes>"
      ]
     },
     "metadata": {
      "needs_background": "light"
     },
     "output_type": "display_data"
    },
    {
     "data": {
      "image/png": "[encoded data removed]",
      "text/plain": [
       "<Figure size 432x288 with 1 Axes>"
      ]
     },
     "metadata": {
      "needs_background": "light"
     },
     "output_type": "display_data"
    },
    {
     "data": {
      "image/png": "[encoded data removed]",
      "text/plain": [
       "<Figure size 432x288 with 1 Axes>"
      ]
     },
     "metadata": {
      "needs_background": "light"
     },
     "output_type": "display_data"
    }
   ],
   "source": [
    "for i in idx_logistic:\n",
    "    img = A[i,:].reshape(28, 28)\n",
    "    plt.figure()\n",
    "    plt.imshow(img)"
   ]
  },
  {
   "cell_type": "code",
   "execution_count": null,
   "metadata": {},
   "outputs": [],
   "source": []
  }
 ],
 "metadata": {
  "kernelspec": {
   "display_name": "Python 3",
   "language": "python",
   "name": "python3"
  },
  "language_info": {
   "codemirror_mode": {
    "name": "ipython",
    "version": 3
   },
   "file_extension": ".py",
   "mimetype": "text/x-python",
   "name": "python",
   "nbconvert_exporter": "python",
   "pygments_lexer": "ipython3",
   "version": "3.7.4"
  }
 },
 "nbformat": 4,
 "nbformat_minor": 4
}
